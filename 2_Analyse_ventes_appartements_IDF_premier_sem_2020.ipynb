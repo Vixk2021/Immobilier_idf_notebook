{
 "cells": [
  {
   "cell_type": "markdown",
   "id": "heavy-cooking",
   "metadata": {},
   "source": [
    "# Analyse de ventes en IDF au premier semestre 2020 "
   ]
  },
  {
   "cell_type": "markdown",
   "id": "deluxe-suicide",
   "metadata": {},
   "source": [
    "## Projet notebook (groupe Michelle, Amine, Vixra)\n",
    "\n",
    "### A faire\n",
    "\n",
    "- choisir un thème en groupe (medecine, sport, musique, …)\n",
    "- trouver un dataset au format csv dans kaggle sur le thème choisi\n",
    "- trouver une colonne à prédire\n",
    "- indiquer une colonne qui pourrait d’après vos connaissances sur le dataset choisi être un bon prédicteur pour la colonne à prédire\n",
    "- plotter un catplot de ces 2 colonnes (ou tout autre visu qui pourrait confirmer ou infirmer le choix précédent)\n",
    "- utiliser le TP intro stats pour trouver le meilleur predicteur (ici une fonction lineaire y = ax + b), selon la methode des moindres carrés\n",
    "- evaluer la qualité du predicteur en calculant son RMSE (Root Mean Squared Error)\n"
   ]
  },
  {
   "cell_type": "code",
   "execution_count": 7,
   "id": "daily-signal",
   "metadata": {},
   "outputs": [],
   "source": [
    "import numpy as np\n",
    "import pandas as pd\n",
    "import matplotlib.pyplot as plt\n",
    "import seaborn as sns"
   ]
  },
  {
   "cell_type": "code",
   "execution_count": 8,
   "id": "familiar-flexibility",
   "metadata": {},
   "outputs": [
    {
     "data": {
      "text/html": [
       "<div>\n",
       "<style scoped>\n",
       "    .dataframe tbody tr th:only-of-type {\n",
       "        vertical-align: middle;\n",
       "    }\n",
       "\n",
       "    .dataframe tbody tr th {\n",
       "        vertical-align: top;\n",
       "    }\n",
       "\n",
       "    .dataframe thead th {\n",
       "        text-align: right;\n",
       "    }\n",
       "</style>\n",
       "<table border=\"1\" class=\"dataframe\">\n",
       "  <thead>\n",
       "    <tr style=\"text-align: right;\">\n",
       "      <th></th>\n",
       "      <th>Unnamed: 0</th>\n",
       "      <th>id_parcelle</th>\n",
       "      <th>nature_vente</th>\n",
       "      <th>date_vente</th>\n",
       "      <th>Prix</th>\n",
       "      <th>nb_lots</th>\n",
       "      <th>surface</th>\n",
       "      <th>local</th>\n",
       "      <th>nb_pieces</th>\n",
       "      <th>code_dprtmt</th>\n",
       "      <th>adresse_nom_voie</th>\n",
       "      <th>code_postal</th>\n",
       "      <th>longitude</th>\n",
       "      <th>latitude</th>\n",
       "      <th>Adresse</th>\n",
       "    </tr>\n",
       "  </thead>\n",
       "  <tbody>\n",
       "    <tr>\n",
       "      <th>0</th>\n",
       "      <td>598682</td>\n",
       "      <td>78646000AE0175</td>\n",
       "      <td>Vente</td>\n",
       "      <td>2020-01-06</td>\n",
       "      <td>1382700.0</td>\n",
       "      <td>2</td>\n",
       "      <td>185.0</td>\n",
       "      <td>Appartement</td>\n",
       "      <td>6.0</td>\n",
       "      <td>78</td>\n",
       "      <td>RUE DES RESERVOIRS</td>\n",
       "      <td>78000.0</td>\n",
       "      <td>2.124821</td>\n",
       "      <td>48.807564</td>\n",
       "      <td>22.0   RUE DES RESERVOIRS   78000.0</td>\n",
       "    </tr>\n",
       "    <tr>\n",
       "      <th>1</th>\n",
       "      <td>598683</td>\n",
       "      <td>78621000AE0302</td>\n",
       "      <td>Vente</td>\n",
       "      <td>2020-01-06</td>\n",
       "      <td>148200.0</td>\n",
       "      <td>1</td>\n",
       "      <td>63.0</td>\n",
       "      <td>Appartement</td>\n",
       "      <td>3.0</td>\n",
       "      <td>78</td>\n",
       "      <td>SQ FRANCIS CARCO</td>\n",
       "      <td>78190.0</td>\n",
       "      <td>1.976229</td>\n",
       "      <td>48.776401</td>\n",
       "      <td>6.0   SQ FRANCIS CARCO   78190.0</td>\n",
       "    </tr>\n",
       "  </tbody>\n",
       "</table>\n",
       "</div>"
      ],
      "text/plain": [
       "   Unnamed: 0     id_parcelle nature_vente  date_vente       Prix  nb_lots  \\\n",
       "0      598682  78646000AE0175        Vente  2020-01-06  1382700.0        2   \n",
       "1      598683  78621000AE0302        Vente  2020-01-06   148200.0        1   \n",
       "\n",
       "   surface        local  nb_pieces  code_dprtmt    adresse_nom_voie  \\\n",
       "0    185.0  Appartement        6.0           78  RUE DES RESERVOIRS   \n",
       "1     63.0  Appartement        3.0           78    SQ FRANCIS CARCO   \n",
       "\n",
       "   code_postal  longitude   latitude                              Adresse  \n",
       "0      78000.0   2.124821  48.807564  22.0   RUE DES RESERVOIRS   78000.0  \n",
       "1      78190.0   1.976229  48.776401     6.0   SQ FRANCIS CARCO   78190.0  "
      ]
     },
     "execution_count": 8,
     "metadata": {},
     "output_type": "execute_result"
    }
   ],
   "source": [
    "# Lecture du dataset nettoyer \"ventes_appartements_idf_final.csv\"\n",
    "df = pd.read_csv('ventes_appartements_idf_final.csv')\n",
    "df.head(2)"
   ]
  },
  {
   "cell_type": "markdown",
   "id": "impressive-solid",
   "metadata": {},
   "source": [
    "## 1 - Répartition des ventes d'appartements au 1er semestre 2020 en IDF"
   ]
  },
  {
   "cell_type": "code",
   "execution_count": 9,
   "id": "continent-retirement",
   "metadata": {},
   "outputs": [
    {
     "data": {
      "text/html": [
       "<div>\n",
       "<style scoped>\n",
       "    .dataframe tbody tr th:only-of-type {\n",
       "        vertical-align: middle;\n",
       "    }\n",
       "\n",
       "    .dataframe tbody tr th {\n",
       "        vertical-align: top;\n",
       "    }\n",
       "\n",
       "    .dataframe thead th {\n",
       "        text-align: right;\n",
       "    }\n",
       "</style>\n",
       "<table border=\"1\" class=\"dataframe\">\n",
       "  <thead>\n",
       "    <tr style=\"text-align: right;\">\n",
       "      <th></th>\n",
       "      <th>Unnamed: 0</th>\n",
       "      <th>id_parcelle</th>\n",
       "      <th>nature_vente</th>\n",
       "      <th>date_vente</th>\n",
       "      <th>Prix</th>\n",
       "      <th>nb_lots</th>\n",
       "      <th>surface</th>\n",
       "      <th>local</th>\n",
       "      <th>nb_pieces</th>\n",
       "      <th>code_dprtmt</th>\n",
       "      <th>adresse_nom_voie</th>\n",
       "      <th>code_postal</th>\n",
       "      <th>longitude</th>\n",
       "      <th>latitude</th>\n",
       "      <th>Adresse</th>\n",
       "      <th>Annee</th>\n",
       "      <th>Mois</th>\n",
       "      <th>jour</th>\n",
       "    </tr>\n",
       "  </thead>\n",
       "  <tbody>\n",
       "    <tr>\n",
       "      <th>0</th>\n",
       "      <td>598682</td>\n",
       "      <td>78646000AE0175</td>\n",
       "      <td>Vente</td>\n",
       "      <td>2020-01-06</td>\n",
       "      <td>1382700.0</td>\n",
       "      <td>2</td>\n",
       "      <td>185.0</td>\n",
       "      <td>Appartement</td>\n",
       "      <td>6.0</td>\n",
       "      <td>78</td>\n",
       "      <td>RUE DES RESERVOIRS</td>\n",
       "      <td>78000.0</td>\n",
       "      <td>2.124821</td>\n",
       "      <td>48.807564</td>\n",
       "      <td>22.0   RUE DES RESERVOIRS   78000.0</td>\n",
       "      <td>2020</td>\n",
       "      <td>01</td>\n",
       "      <td>06</td>\n",
       "    </tr>\n",
       "  </tbody>\n",
       "</table>\n",
       "</div>"
      ],
      "text/plain": [
       "   Unnamed: 0     id_parcelle nature_vente  date_vente       Prix  nb_lots  \\\n",
       "0      598682  78646000AE0175        Vente  2020-01-06  1382700.0        2   \n",
       "\n",
       "   surface        local  nb_pieces  code_dprtmt    adresse_nom_voie  \\\n",
       "0    185.0  Appartement        6.0           78  RUE DES RESERVOIRS   \n",
       "\n",
       "   code_postal  longitude   latitude                              Adresse  \\\n",
       "0      78000.0   2.124821  48.807564  22.0   RUE DES RESERVOIRS   78000.0   \n",
       "\n",
       "  Annee Mois jour  \n",
       "0  2020   01   06  "
      ]
     },
     "execution_count": 9,
     "metadata": {},
     "output_type": "execute_result"
    }
   ],
   "source": [
    "# Permet de séparer la colonne \"date_mutation\" en 3 colonnes : \"Annee\", \"Mois\" et \"jour\"\n",
    "df[['Annee','Mois','jour']] = df['date_vente'].str.split(\"-\",expand=True)\n",
    "df.head(1)"
   ]
  },
  {
   "cell_type": "code",
   "execution_count": 10,
   "id": "rocky-mediterranean",
   "metadata": {},
   "outputs": [
    {
     "data": {
      "text/html": [
       "<div>\n",
       "<style scoped>\n",
       "    .dataframe tbody tr th:only-of-type {\n",
       "        vertical-align: middle;\n",
       "    }\n",
       "\n",
       "    .dataframe tbody tr th {\n",
       "        vertical-align: top;\n",
       "    }\n",
       "\n",
       "    .dataframe thead th {\n",
       "        text-align: right;\n",
       "    }\n",
       "</style>\n",
       "<table border=\"1\" class=\"dataframe\">\n",
       "  <thead>\n",
       "    <tr style=\"text-align: right;\">\n",
       "      <th></th>\n",
       "      <th>local</th>\n",
       "    </tr>\n",
       "    <tr>\n",
       "      <th>Mois</th>\n",
       "      <th></th>\n",
       "    </tr>\n",
       "  </thead>\n",
       "  <tbody>\n",
       "    <tr>\n",
       "      <th>01</th>\n",
       "      <td>10270</td>\n",
       "    </tr>\n",
       "    <tr>\n",
       "      <th>02</th>\n",
       "      <td>9136</td>\n",
       "    </tr>\n",
       "    <tr>\n",
       "      <th>03</th>\n",
       "      <td>7601</td>\n",
       "    </tr>\n",
       "    <tr>\n",
       "      <th>04</th>\n",
       "      <td>4297</td>\n",
       "    </tr>\n",
       "    <tr>\n",
       "      <th>05</th>\n",
       "      <td>8399</td>\n",
       "    </tr>\n",
       "    <tr>\n",
       "      <th>06</th>\n",
       "      <td>8208</td>\n",
       "    </tr>\n",
       "  </tbody>\n",
       "</table>\n",
       "</div>"
      ],
      "text/plain": [
       "      local\n",
       "Mois       \n",
       "01    10270\n",
       "02     9136\n",
       "03     7601\n",
       "04     4297\n",
       "05     8399\n",
       "06     8208"
      ]
     },
     "execution_count": 10,
     "metadata": {},
     "output_type": "execute_result"
    }
   ],
   "source": [
    "# Permet de grouper par mois le nombre d'appartement vendus sur toute l'Ile de France\n",
    "df.groupby('Mois')[['local']].count()"
   ]
  },
  {
   "cell_type": "code",
   "execution_count": 11,
   "id": "typical-filling",
   "metadata": {},
   "outputs": [
    {
     "data": {
      "text/plain": [
       "<seaborn.axisgrid.FacetGrid at 0x1ca1e95ff40>"
      ]
     },
     "execution_count": 11,
     "metadata": {},
     "output_type": "execute_result"
    },
    {
     "data": {
      "image/png": "[encoded data removed]",
      "text/plain": [
       "<Figure size 360x360 with 1 Axes>"
      ]
     },
     "metadata": {
      "needs_background": "light"
     },
     "output_type": "display_data"
    }
   ],
   "source": [
    "# Histogramme de la répartition des ventes d'appartements en Ile-de-France au 1er semestre 2020 (entre janvier et juin 2020)\n",
    "sns.catplot(x='Mois',  data=df, kind='count')"
   ]
  },
  {
   "cell_type": "raw",
   "id": "fifty-laugh",
   "metadata": {},
   "source": [
    "Description: \n",
    "- au mois de janvier max des ventes\n",
    "- au mois de avril minimum des ventes\n",
    "- On contate une diminution globale des ventes d'appartements en IDF entre janvier et avril, puis une tendance à la hausse entre mai et juin. \n",
    "\n",
    "Interprétation : \n",
    "La France à été confiné entre mi mars et début mai à cause du COVID. \n",
    "Les gens ne pouvaient pas sortir pour aller visiter des biens ou finaliser des transactions, ce qui peut expliquer cette dimunution des ventes au mois d'avril."
   ]
  },
  {
   "cell_type": "markdown",
   "id": "diverse-intelligence",
   "metadata": {},
   "source": [
    "## 2 - Répartition des ventes par département"
   ]
  },
  {
   "cell_type": "code",
   "execution_count": 12,
   "id": "funky-genre",
   "metadata": {},
   "outputs": [
    {
     "data": {
      "text/html": [
       "<div>\n",
       "<style scoped>\n",
       "    .dataframe tbody tr th:only-of-type {\n",
       "        vertical-align: middle;\n",
       "    }\n",
       "\n",
       "    .dataframe tbody tr th {\n",
       "        vertical-align: top;\n",
       "    }\n",
       "\n",
       "    .dataframe thead th {\n",
       "        text-align: right;\n",
       "    }\n",
       "</style>\n",
       "<table border=\"1\" class=\"dataframe\">\n",
       "  <thead>\n",
       "    <tr style=\"text-align: right;\">\n",
       "      <th></th>\n",
       "      <th>code_dprtmt</th>\n",
       "      <th>local</th>\n",
       "    </tr>\n",
       "  </thead>\n",
       "  <tbody>\n",
       "    <tr>\n",
       "      <th>0</th>\n",
       "      <td>75</td>\n",
       "      <td>15064</td>\n",
       "    </tr>\n",
       "    <tr>\n",
       "      <th>1</th>\n",
       "      <td>78</td>\n",
       "      <td>6709</td>\n",
       "    </tr>\n",
       "    <tr>\n",
       "      <th>2</th>\n",
       "      <td>91</td>\n",
       "      <td>4583</td>\n",
       "    </tr>\n",
       "    <tr>\n",
       "      <th>3</th>\n",
       "      <td>92</td>\n",
       "      <td>5594</td>\n",
       "    </tr>\n",
       "    <tr>\n",
       "      <th>4</th>\n",
       "      <td>93</td>\n",
       "      <td>4608</td>\n",
       "    </tr>\n",
       "    <tr>\n",
       "      <th>5</th>\n",
       "      <td>94</td>\n",
       "      <td>6861</td>\n",
       "    </tr>\n",
       "    <tr>\n",
       "      <th>6</th>\n",
       "      <td>95</td>\n",
       "      <td>4492</td>\n",
       "    </tr>\n",
       "  </tbody>\n",
       "</table>\n",
       "</div>"
      ],
      "text/plain": [
       "   code_dprtmt  local\n",
       "0           75  15064\n",
       "1           78   6709\n",
       "2           91   4583\n",
       "3           92   5594\n",
       "4           93   4608\n",
       "5           94   6861\n",
       "6           95   4492"
      ]
     },
     "execution_count": 12,
     "metadata": {},
     "output_type": "execute_result"
    }
   ],
   "source": [
    "# Permet de grouper par département le nombre d'appartement vendus\n",
    "df1= df.groupby(\"code_dprtmt\").local.count().reset_index()\n",
    "df1"
   ]
  },
  {
   "cell_type": "code",
   "execution_count": 13,
   "id": "equal-aquatic",
   "metadata": {},
   "outputs": [
    {
     "data": {
      "text/plain": [
       "<seaborn.axisgrid.FacetGrid at 0x1ca1f6ed100>"
      ]
     },
     "execution_count": 13,
     "metadata": {},
     "output_type": "execute_result"
    },
    {
     "data": {
      "image/png": "[encoded data removed]",
      "text/plain": [
       "<Figure size 360x360 with 1 Axes>"
      ]
     },
     "metadata": {
      "needs_background": "light"
     },
     "output_type": "display_data"
    }
   ],
   "source": [
    "# Histogramme de la répartition des ventes d'appartements par département\n",
    "sns.catplot(x=\"code_dprtmt\",y='local',  data=df1, kind='bar')"
   ]
  },
  {
   "cell_type": "raw",
   "id": "seven-solomon",
   "metadata": {},
   "source": [
    "Description : On voit qu'il y a eu beaucoup plus d'appartements vendus dans le 75 Paris intra-muros."
   ]
  },
  {
   "cell_type": "markdown",
   "id": "monetary-venture",
   "metadata": {},
   "source": [
    "###  # Autre représentation : barres horizontales"
   ]
  },
  {
   "cell_type": "code",
   "execution_count": 14,
   "id": "chronic-pattern",
   "metadata": {},
   "outputs": [
    {
     "data": {
      "image/png": "[encoded data removed]",
      "text/plain": [
       "<Figure size 648x432 with 1 Axes>"
      ]
     },
     "metadata": {
      "needs_background": "light"
     },
     "output_type": "display_data"
    }
   ],
   "source": [
    "plt.figure(figsize = (9, 6))\n",
    "plt.barh(y = (df1[\"code_dprtmt\"]).astype(str), #this is an inverted bar chart, so the first argument is the y axis\n",
    "        width = df1[\"local\"]) #the second argument shows the x-axis or is the width\n",
    "   \n",
    "plt.xticks( fontsize = 13)\n",
    "plt.yticks( fontsize = 13)\n",
    "plt.title(\"Ventes par département\", fontsize = 16, fontweight = \"bold\")\n",
    "# plt.xlabel(\"vente\", fontsize = 13 )\n",
    "#plt.tight_layout()\n",
    "# plt.savefig(\"Ice Cream Shop h.png\")\n",
    "plt.show()"
   ]
  },
  {
   "cell_type": "markdown",
   "id": "hired-basement",
   "metadata": {},
   "source": [
    "### # Autre visualisation sous forme de \"Donut\""
   ]
  },
  {
   "cell_type": "code",
   "execution_count": 15,
   "id": "clear-pursuit",
   "metadata": {},
   "outputs": [
    {
     "data": {
      "image/png": "[encoded data removed]",
      "text/plain": [
       "<Figure size 504x504 with 1 Axes>"
      ]
     },
     "metadata": {},
     "output_type": "display_data"
    }
   ],
   "source": [
    "import numpy as np\n",
    "import matplotlib.pyplot as plt\n",
    "import matplotlib as mpl\n",
    "mpl.rcParams['font.size'] = 16\n",
    "\n",
    "departements = ['75', '78', '91', '92','93', '94', '95']\n",
    "nb_ventes =[15064, 6709, 4583, 5594, 4608, 6861, 4492]\n",
    "# explode = (0, 0.1, 0)  \n",
    "\n",
    "fig1, ax1 = plt.subplots(figsize=(7,7))\n",
    "plt.title('Ventes par département', fontsize=15, weight='bold')\n",
    "ax1.pie(nb_ventes,  labels=departements, autopct='%1.1f%%',\n",
    "         startangle=10)\n",
    "#draw circle\n",
    "centre_circle = plt.Circle((0,0),0.70,fc='white')\n",
    "fig = plt.gcf()\n",
    "fig.gca().add_artist(centre_circle)\n",
    "ax1.axis('equal')  # Equal aspect ratio ensures that pie is drawn as a circle.\n",
    "\n",
    "plt.show()"
   ]
  },
  {
   "cell_type": "markdown",
   "id": "dietary-calendar",
   "metadata": {},
   "source": [
    "## 3 -  Etude des ventes selon les arrondissements dans Paris"
   ]
  },
  {
   "cell_type": "code",
   "execution_count": 16,
   "id": "solved-primary",
   "metadata": {},
   "outputs": [
    {
     "data": {
      "text/plain": [
       "nb_lots\n",
       "0      8276\n",
       "1     17336\n",
       "2     19732\n",
       "3      1796\n",
       "4       521\n",
       "5       138\n",
       "6        53\n",
       "7        32\n",
       "8        17\n",
       "9         7\n",
       "11        1\n",
       "12        1\n",
       "13        1\n",
       "Name: nb_lots, dtype: int64"
      ]
     },
     "execution_count": 16,
     "metadata": {},
     "output_type": "execute_result"
    }
   ],
   "source": [
    "# Regardons qu'est-ce qu'il y a comme valeur dans la colonne nb_lots\n",
    "df.groupby('nb_lots')['nb_lots'].count()"
   ]
  },
  {
   "cell_type": "raw",
   "id": "eleven-apparatus",
   "metadata": {},
   "source": [
    "# Comme on ne sait pas à quoi correspond vraiment le nb_lots on va considérer les lignes nb_lots égale au valeur \"0\" et \"1\" en supposant que les valeurs 0 et 1 correspondent à des lots de 1 appartement. \n",
    "# Soit au total 25612 lignes (8276 lignes correspondant à la valeur \"0\" + 17336 lignes correspondant à la valeur \"1\")"
   ]
  },
  {
   "cell_type": "markdown",
   "id": "foster-marina",
   "metadata": {},
   "source": [
    "### 3.1 : Récupérerer un dataframe avec les données de paris "
   ]
  },
  {
   "cell_type": "code",
   "execution_count": 17,
   "id": "reflected-india",
   "metadata": {},
   "outputs": [
    {
     "data": {
      "text/html": [
       "<div>\n",
       "<style scoped>\n",
       "    .dataframe tbody tr th:only-of-type {\n",
       "        vertical-align: middle;\n",
       "    }\n",
       "\n",
       "    .dataframe tbody tr th {\n",
       "        vertical-align: top;\n",
       "    }\n",
       "\n",
       "    .dataframe thead th {\n",
       "        text-align: right;\n",
       "    }\n",
       "</style>\n",
       "<table border=\"1\" class=\"dataframe\">\n",
       "  <thead>\n",
       "    <tr style=\"text-align: right;\">\n",
       "      <th></th>\n",
       "      <th>Unnamed: 0</th>\n",
       "      <th>id_parcelle</th>\n",
       "      <th>nature_vente</th>\n",
       "      <th>date_vente</th>\n",
       "      <th>Prix</th>\n",
       "      <th>nb_lots</th>\n",
       "      <th>surface</th>\n",
       "      <th>local</th>\n",
       "      <th>nb_pieces</th>\n",
       "      <th>code_dprtmt</th>\n",
       "      <th>adresse_nom_voie</th>\n",
       "      <th>code_postal</th>\n",
       "      <th>longitude</th>\n",
       "      <th>latitude</th>\n",
       "      <th>Adresse</th>\n",
       "      <th>Annee</th>\n",
       "      <th>Mois</th>\n",
       "      <th>jour</th>\n",
       "    </tr>\n",
       "  </thead>\n",
       "  <tbody>\n",
       "    <tr>\n",
       "      <th>32849</th>\n",
       "      <td>803610</td>\n",
       "      <td>75103000AV0006</td>\n",
       "      <td>Vente</td>\n",
       "      <td>2020-01-10</td>\n",
       "      <td>680000.0</td>\n",
       "      <td>1</td>\n",
       "      <td>51.0</td>\n",
       "      <td>Appartement</td>\n",
       "      <td>2.0</td>\n",
       "      <td>75</td>\n",
       "      <td>RUE DU BOURG L ABBE</td>\n",
       "      <td>75003.0</td>\n",
       "      <td>2.351965</td>\n",
       "      <td>48.864157</td>\n",
       "      <td>10.0   RUE DU BOURG L ABBE   75003.0</td>\n",
       "      <td>2020</td>\n",
       "      <td>01</td>\n",
       "      <td>10</td>\n",
       "    </tr>\n",
       "    <tr>\n",
       "      <th>32850</th>\n",
       "      <td>803611</td>\n",
       "      <td>75103000AK0080</td>\n",
       "      <td>Vente</td>\n",
       "      <td>2020-01-03</td>\n",
       "      <td>852000.0</td>\n",
       "      <td>1</td>\n",
       "      <td>19.0</td>\n",
       "      <td>Appartement</td>\n",
       "      <td>1.0</td>\n",
       "      <td>75</td>\n",
       "      <td>RUE DE SAINTONGE</td>\n",
       "      <td>75003.0</td>\n",
       "      <td>2.363196</td>\n",
       "      <td>48.862017</td>\n",
       "      <td>24.0   RUE DE SAINTONGE   75003.0</td>\n",
       "      <td>2020</td>\n",
       "      <td>01</td>\n",
       "      <td>03</td>\n",
       "    </tr>\n",
       "  </tbody>\n",
       "</table>\n",
       "</div>"
      ],
      "text/plain": [
       "       Unnamed: 0     id_parcelle nature_vente  date_vente      Prix  nb_lots  \\\n",
       "32849      803610  75103000AV0006        Vente  2020-01-10  680000.0        1   \n",
       "32850      803611  75103000AK0080        Vente  2020-01-03  852000.0        1   \n",
       "\n",
       "       surface        local  nb_pieces  code_dprtmt     adresse_nom_voie  \\\n",
       "32849     51.0  Appartement        2.0           75  RUE DU BOURG L ABBE   \n",
       "32850     19.0  Appartement        1.0           75     RUE DE SAINTONGE   \n",
       "\n",
       "       code_postal  longitude   latitude  \\\n",
       "32849      75003.0   2.351965  48.864157   \n",
       "32850      75003.0   2.363196  48.862017   \n",
       "\n",
       "                                    Adresse Annee Mois jour  \n",
       "32849  10.0   RUE DU BOURG L ABBE   75003.0  2020   01   10  \n",
       "32850     24.0   RUE DE SAINTONGE   75003.0  2020   01   03  "
      ]
     },
     "execution_count": 17,
     "metadata": {},
     "output_type": "execute_result"
    }
   ],
   "source": [
    "# Récupérer les lignes qui concerne Paris avec les nb_lots entre \"0\" et \"1\"\n",
    "df_paris = df[(df['code_dprtmt']==75) & \n",
    "              (df['Prix']) & \n",
    "              (df['nb_lots']<=1)\n",
    "             ]\n",
    "df_paris.head(2)"
   ]
  },
  {
   "cell_type": "code",
   "execution_count": 18,
   "id": "sharp-skirt",
   "metadata": {},
   "outputs": [
    {
     "name": "stderr",
     "output_type": "stream",
     "text": [
      "C:\\Users\\Vixra KEO\\anaconda3\\envs\\intro-conda\\lib\\site-packages\\pandas\\core\\frame.py:4163: SettingWithCopyWarning: \n",
      "A value is trying to be set on a copy of a slice from a DataFrame\n",
      "\n",
      "See the caveats in the documentation: https://pandas.pydata.org/pandas-docs/stable/user_guide/indexing.html#returning-a-view-versus-a-copy\n",
      "  return super().drop(\n"
     ]
    }
   ],
   "source": [
    "# Enlever la colonne 'Unnamed:0' qui ne correspond à rien \n",
    "df_paris.drop(columns=['Unnamed: 0'],inplace=True)"
   ]
  },
  {
   "cell_type": "code",
   "execution_count": 19,
   "id": "characteristic-light",
   "metadata": {},
   "outputs": [
    {
     "data": {
      "text/plain": [
       "id_parcelle          0\n",
       "nature_vente         0\n",
       "date_vente           0\n",
       "Prix                 0\n",
       "nb_lots              0\n",
       "surface              0\n",
       "local                0\n",
       "nb_pieces            0\n",
       "code_dprtmt          0\n",
       "adresse_nom_voie     0\n",
       "code_postal          0\n",
       "longitude           12\n",
       "latitude            12\n",
       "Adresse              0\n",
       "Annee                0\n",
       "Mois                 0\n",
       "jour                 0\n",
       "dtype: int64"
      ]
     },
     "execution_count": 19,
     "metadata": {},
     "output_type": "execute_result"
    }
   ],
   "source": [
    "# Vérifier si il y a des valeurs nulles\n",
    "df_paris.isnull().sum()"
   ]
  },
  {
   "cell_type": "code",
   "execution_count": 20,
   "id": "hearing-marketing",
   "metadata": {},
   "outputs": [
    {
     "name": "stderr",
     "output_type": "stream",
     "text": [
      "<ipython-input-20-465e67643cfd>:2: SettingWithCopyWarning: \n",
      "A value is trying to be set on a copy of a slice from a DataFrame\n",
      "\n",
      "See the caveats in the documentation: https://pandas.pydata.org/pandas-docs/stable/user_guide/indexing.html#returning-a-view-versus-a-copy\n",
      "  df_paris.dropna(inplace=True)\n"
     ]
    }
   ],
   "source": [
    "# Enlever les valeurs nulles\n",
    "df_paris.dropna(inplace=True)"
   ]
  },
  {
   "cell_type": "markdown",
   "id": "reported-desire",
   "metadata": {},
   "source": [
    "### 3.2 : Etudier la distribution des appartements vendus par arrondissement"
   ]
  },
  {
   "cell_type": "code",
   "execution_count": 21,
   "id": "extraordinary-hawaiian",
   "metadata": {},
   "outputs": [
    {
     "data": {
      "text/plain": [
       "code_postal\n",
       "75001.0    129\n",
       "75002.0    206\n",
       "75003.0    241\n",
       "75004.0    137\n",
       "75005.0    152\n",
       "75006.0    164\n",
       "75007.0    163\n",
       "75008.0    276\n",
       "75009.0    373\n",
       "75010.0    483\n",
       "75011.0    627\n",
       "75012.0    445\n",
       "75013.0    198\n",
       "75014.0    324\n",
       "75015.0    434\n",
       "75016.0    541\n",
       "75017.0    723\n",
       "75018.0    849\n",
       "75019.0    440\n",
       "75020.0    529\n",
       "Name: code_postal, dtype: int64"
      ]
     },
     "execution_count": 21,
     "metadata": {},
     "output_type": "execute_result"
    }
   ],
   "source": [
    "# voir la distribution des ventes par arrondissement.\n",
    "df_paris.groupby('code_postal')['code_postal'].count()"
   ]
  },
  {
   "cell_type": "code",
   "execution_count": 22,
   "id": "quarterly-buying",
   "metadata": {},
   "outputs": [],
   "source": [
    "# somme des surfaces\n",
    "sum_surface = df_paris.groupby('code_postal')[['surface']].sum().reset_index() # double crochet a surface pour crée dataframe "
   ]
  },
  {
   "cell_type": "code",
   "execution_count": 23,
   "id": "joined-heritage",
   "metadata": {},
   "outputs": [],
   "source": [
    "# somme des prix\n",
    "sum_prix = df_paris.groupby('code_postal')[['Prix']].sum().reset_index() # double crochet a prix pour crée dataframe"
   ]
  },
  {
   "cell_type": "code",
   "execution_count": 24,
   "id": "acute-trading",
   "metadata": {},
   "outputs": [
    {
     "data": {
      "text/html": [
       "<div>\n",
       "<style scoped>\n",
       "    .dataframe tbody tr th:only-of-type {\n",
       "        vertical-align: middle;\n",
       "    }\n",
       "\n",
       "    .dataframe tbody tr th {\n",
       "        vertical-align: top;\n",
       "    }\n",
       "\n",
       "    .dataframe thead th {\n",
       "        text-align: right;\n",
       "    }\n",
       "</style>\n",
       "<table border=\"1\" class=\"dataframe\">\n",
       "  <thead>\n",
       "    <tr style=\"text-align: right;\">\n",
       "      <th></th>\n",
       "      <th>surface</th>\n",
       "      <th>Prix</th>\n",
       "    </tr>\n",
       "    <tr>\n",
       "      <th>code_postal</th>\n",
       "      <th></th>\n",
       "      <th></th>\n",
       "    </tr>\n",
       "  </thead>\n",
       "  <tbody>\n",
       "    <tr>\n",
       "      <th>75001.0</th>\n",
       "      <td>6329.0</td>\n",
       "      <td>3.707930e+08</td>\n",
       "    </tr>\n",
       "    <tr>\n",
       "      <th>75002.0</th>\n",
       "      <td>9002.0</td>\n",
       "      <td>8.033815e+08</td>\n",
       "    </tr>\n",
       "    <tr>\n",
       "      <th>75003.0</th>\n",
       "      <td>9398.0</td>\n",
       "      <td>4.268654e+08</td>\n",
       "    </tr>\n",
       "    <tr>\n",
       "      <th>75004.0</th>\n",
       "      <td>6862.0</td>\n",
       "      <td>9.652394e+07</td>\n",
       "    </tr>\n",
       "    <tr>\n",
       "      <th>75005.0</th>\n",
       "      <td>6161.0</td>\n",
       "      <td>9.530106e+07</td>\n",
       "    </tr>\n",
       "    <tr>\n",
       "      <th>75006.0</th>\n",
       "      <td>8527.0</td>\n",
       "      <td>2.372845e+08</td>\n",
       "    </tr>\n",
       "    <tr>\n",
       "      <th>75007.0</th>\n",
       "      <td>9430.0</td>\n",
       "      <td>5.732054e+08</td>\n",
       "    </tr>\n",
       "    <tr>\n",
       "      <th>75008.0</th>\n",
       "      <td>18018.0</td>\n",
       "      <td>3.294913e+09</td>\n",
       "    </tr>\n",
       "    <tr>\n",
       "      <th>75009.0</th>\n",
       "      <td>17399.0</td>\n",
       "      <td>1.860469e+09</td>\n",
       "    </tr>\n",
       "    <tr>\n",
       "      <th>75010.0</th>\n",
       "      <td>18744.0</td>\n",
       "      <td>6.327027e+08</td>\n",
       "    </tr>\n",
       "    <tr>\n",
       "      <th>75011.0</th>\n",
       "      <td>22598.0</td>\n",
       "      <td>1.147505e+09</td>\n",
       "    </tr>\n",
       "    <tr>\n",
       "      <th>75012.0</th>\n",
       "      <td>16929.0</td>\n",
       "      <td>3.608192e+08</td>\n",
       "    </tr>\n",
       "    <tr>\n",
       "      <th>75013.0</th>\n",
       "      <td>8066.0</td>\n",
       "      <td>1.546137e+08</td>\n",
       "    </tr>\n",
       "    <tr>\n",
       "      <th>75014.0</th>\n",
       "      <td>12834.0</td>\n",
       "      <td>6.670573e+08</td>\n",
       "    </tr>\n",
       "    <tr>\n",
       "      <th>75015.0</th>\n",
       "      <td>17313.0</td>\n",
       "      <td>2.649500e+08</td>\n",
       "    </tr>\n",
       "    <tr>\n",
       "      <th>75016.0</th>\n",
       "      <td>37141.0</td>\n",
       "      <td>7.236226e+08</td>\n",
       "    </tr>\n",
       "    <tr>\n",
       "      <th>75017.0</th>\n",
       "      <td>37248.0</td>\n",
       "      <td>2.086736e+09</td>\n",
       "    </tr>\n",
       "    <tr>\n",
       "      <th>75018.0</th>\n",
       "      <td>30638.0</td>\n",
       "      <td>7.444526e+08</td>\n",
       "    </tr>\n",
       "    <tr>\n",
       "      <th>75019.0</th>\n",
       "      <td>16220.0</td>\n",
       "      <td>3.002552e+08</td>\n",
       "    </tr>\n",
       "    <tr>\n",
       "      <th>75020.0</th>\n",
       "      <td>18903.0</td>\n",
       "      <td>1.073067e+09</td>\n",
       "    </tr>\n",
       "  </tbody>\n",
       "</table>\n",
       "</div>"
      ],
      "text/plain": [
       "             surface          Prix\n",
       "code_postal                       \n",
       "75001.0       6329.0  3.707930e+08\n",
       "75002.0       9002.0  8.033815e+08\n",
       "75003.0       9398.0  4.268654e+08\n",
       "75004.0       6862.0  9.652394e+07\n",
       "75005.0       6161.0  9.530106e+07\n",
       "75006.0       8527.0  2.372845e+08\n",
       "75007.0       9430.0  5.732054e+08\n",
       "75008.0      18018.0  3.294913e+09\n",
       "75009.0      17399.0  1.860469e+09\n",
       "75010.0      18744.0  6.327027e+08\n",
       "75011.0      22598.0  1.147505e+09\n",
       "75012.0      16929.0  3.608192e+08\n",
       "75013.0       8066.0  1.546137e+08\n",
       "75014.0      12834.0  6.670573e+08\n",
       "75015.0      17313.0  2.649500e+08\n",
       "75016.0      37141.0  7.236226e+08\n",
       "75017.0      37248.0  2.086736e+09\n",
       "75018.0      30638.0  7.444526e+08\n",
       "75019.0      16220.0  3.002552e+08\n",
       "75020.0      18903.0  1.073067e+09"
      ]
     },
     "execution_count": 24,
     "metadata": {},
     "output_type": "execute_result"
    }
   ],
   "source": [
    "# Jointure pour créer nouveau dataframe pour réunir somme des surfaces et somme des prix par arrondissement\n",
    "left = sum_surface.set_index([\"code_postal\"])\n",
    "right = sum_prix.set_index([\"code_postal\"])\n",
    "\n",
    "Prix_m2 =left.join(right)\n",
    "Prix_m2"
   ]
  },
  {
   "cell_type": "code",
   "execution_count": 25,
   "id": "educated-charger",
   "metadata": {},
   "outputs": [
    {
     "data": {
      "text/html": [
       "<div>\n",
       "<style scoped>\n",
       "    .dataframe tbody tr th:only-of-type {\n",
       "        vertical-align: middle;\n",
       "    }\n",
       "\n",
       "    .dataframe tbody tr th {\n",
       "        vertical-align: top;\n",
       "    }\n",
       "\n",
       "    .dataframe thead th {\n",
       "        text-align: right;\n",
       "    }\n",
       "</style>\n",
       "<table border=\"1\" class=\"dataframe\">\n",
       "  <thead>\n",
       "    <tr style=\"text-align: right;\">\n",
       "      <th></th>\n",
       "      <th>surface</th>\n",
       "      <th>Prix</th>\n",
       "      <th>prix_m2_reel</th>\n",
       "    </tr>\n",
       "    <tr>\n",
       "      <th>code_postal</th>\n",
       "      <th></th>\n",
       "      <th></th>\n",
       "      <th></th>\n",
       "    </tr>\n",
       "  </thead>\n",
       "  <tbody>\n",
       "    <tr>\n",
       "      <th>75001.0</th>\n",
       "      <td>6329.0</td>\n",
       "      <td>3.707930e+08</td>\n",
       "      <td>58586.344288</td>\n",
       "    </tr>\n",
       "    <tr>\n",
       "      <th>75002.0</th>\n",
       "      <td>9002.0</td>\n",
       "      <td>8.033815e+08</td>\n",
       "      <td>89244.779801</td>\n",
       "    </tr>\n",
       "  </tbody>\n",
       "</table>\n",
       "</div>"
      ],
      "text/plain": [
       "             surface          Prix  prix_m2_reel\n",
       "code_postal                                     \n",
       "75001.0       6329.0  3.707930e+08  58586.344288\n",
       "75002.0       9002.0  8.033815e+08  89244.779801"
      ]
     },
     "execution_count": 25,
     "metadata": {},
     "output_type": "execute_result"
    }
   ],
   "source": [
    "# Ajout nouvelle colonne avec le prix au m² par arrondissement\n",
    "Prix_m2['prix_m2_reel'] = Prix_m2['Prix'] / Prix_m2['surface']\n",
    "Prix_m2.head(2)"
   ]
  },
  {
   "cell_type": "markdown",
   "id": "three-society",
   "metadata": {},
   "source": [
    "https://www.journaldunet.com/patrimoine/prix-immobilier/paris/ville-75056"
   ]
  },
  {
   "cell_type": "code",
   "execution_count": 26,
   "id": "young-victorian",
   "metadata": {},
   "outputs": [
    {
     "data": {
      "text/html": [
       "<div>\n",
       "<style scoped>\n",
       "    .dataframe tbody tr th:only-of-type {\n",
       "        vertical-align: middle;\n",
       "    }\n",
       "\n",
       "    .dataframe tbody tr th {\n",
       "        vertical-align: top;\n",
       "    }\n",
       "\n",
       "    .dataframe thead th {\n",
       "        text-align: right;\n",
       "    }\n",
       "</style>\n",
       "<table border=\"1\" class=\"dataframe\">\n",
       "  <thead>\n",
       "    <tr style=\"text-align: right;\">\n",
       "      <th></th>\n",
       "      <th>surface</th>\n",
       "      <th>Prix</th>\n",
       "      <th>prix_m2_reel</th>\n",
       "      <th>prix_m2_ref</th>\n",
       "    </tr>\n",
       "    <tr>\n",
       "      <th>code_postal</th>\n",
       "      <th></th>\n",
       "      <th></th>\n",
       "      <th></th>\n",
       "      <th></th>\n",
       "    </tr>\n",
       "  </thead>\n",
       "  <tbody>\n",
       "    <tr>\n",
       "      <th>75001.0</th>\n",
       "      <td>6329.0</td>\n",
       "      <td>3.707930e+08</td>\n",
       "      <td>58586.344288</td>\n",
       "      <td>13312</td>\n",
       "    </tr>\n",
       "    <tr>\n",
       "      <th>75002.0</th>\n",
       "      <td>9002.0</td>\n",
       "      <td>8.033815e+08</td>\n",
       "      <td>89244.779801</td>\n",
       "      <td>12268</td>\n",
       "    </tr>\n",
       "    <tr>\n",
       "      <th>75003.0</th>\n",
       "      <td>9398.0</td>\n",
       "      <td>4.268654e+08</td>\n",
       "      <td>45420.879070</td>\n",
       "      <td>13351</td>\n",
       "    </tr>\n",
       "    <tr>\n",
       "      <th>75004.0</th>\n",
       "      <td>6862.0</td>\n",
       "      <td>9.652394e+07</td>\n",
       "      <td>14066.444623</td>\n",
       "      <td>13158</td>\n",
       "    </tr>\n",
       "    <tr>\n",
       "      <th>75005.0</th>\n",
       "      <td>6161.0</td>\n",
       "      <td>9.530106e+07</td>\n",
       "      <td>15468.440643</td>\n",
       "      <td>13059</td>\n",
       "    </tr>\n",
       "    <tr>\n",
       "      <th>75006.0</th>\n",
       "      <td>8527.0</td>\n",
       "      <td>2.372845e+08</td>\n",
       "      <td>27827.434150</td>\n",
       "      <td>15617</td>\n",
       "    </tr>\n",
       "    <tr>\n",
       "      <th>75007.0</th>\n",
       "      <td>9430.0</td>\n",
       "      <td>5.732054e+08</td>\n",
       "      <td>60785.304348</td>\n",
       "      <td>13442</td>\n",
       "    </tr>\n",
       "    <tr>\n",
       "      <th>75008.0</th>\n",
       "      <td>18018.0</td>\n",
       "      <td>3.294913e+09</td>\n",
       "      <td>182867.861581</td>\n",
       "      <td>12809</td>\n",
       "    </tr>\n",
       "    <tr>\n",
       "      <th>75009.0</th>\n",
       "      <td>17399.0</td>\n",
       "      <td>1.860469e+09</td>\n",
       "      <td>106929.667352</td>\n",
       "      <td>11702</td>\n",
       "    </tr>\n",
       "    <tr>\n",
       "      <th>75010.0</th>\n",
       "      <td>18744.0</td>\n",
       "      <td>6.327027e+08</td>\n",
       "      <td>33754.943735</td>\n",
       "      <td>10368</td>\n",
       "    </tr>\n",
       "    <tr>\n",
       "      <th>75011.0</th>\n",
       "      <td>22598.0</td>\n",
       "      <td>1.147505e+09</td>\n",
       "      <td>50779.055602</td>\n",
       "      <td>10595</td>\n",
       "    </tr>\n",
       "    <tr>\n",
       "      <th>75012.0</th>\n",
       "      <td>16929.0</td>\n",
       "      <td>3.608192e+08</td>\n",
       "      <td>21313.676805</td>\n",
       "      <td>9703</td>\n",
       "    </tr>\n",
       "    <tr>\n",
       "      <th>75013.0</th>\n",
       "      <td>8066.0</td>\n",
       "      <td>1.546137e+08</td>\n",
       "      <td>19168.576742</td>\n",
       "      <td>9246</td>\n",
       "    </tr>\n",
       "    <tr>\n",
       "      <th>75014.0</th>\n",
       "      <td>12834.0</td>\n",
       "      <td>6.670573e+08</td>\n",
       "      <td>51975.787340</td>\n",
       "      <td>9940</td>\n",
       "    </tr>\n",
       "    <tr>\n",
       "      <th>75015.0</th>\n",
       "      <td>17313.0</td>\n",
       "      <td>2.649500e+08</td>\n",
       "      <td>15303.528051</td>\n",
       "      <td>10816</td>\n",
       "    </tr>\n",
       "    <tr>\n",
       "      <th>75016.0</th>\n",
       "      <td>37141.0</td>\n",
       "      <td>7.236226e+08</td>\n",
       "      <td>19483.120832</td>\n",
       "      <td>11322</td>\n",
       "    </tr>\n",
       "    <tr>\n",
       "      <th>75017.0</th>\n",
       "      <td>37248.0</td>\n",
       "      <td>2.086736e+09</td>\n",
       "      <td>56022.761931</td>\n",
       "      <td>11420</td>\n",
       "    </tr>\n",
       "    <tr>\n",
       "      <th>75018.0</th>\n",
       "      <td>30638.0</td>\n",
       "      <td>7.444526e+08</td>\n",
       "      <td>24298.341858</td>\n",
       "      <td>9904</td>\n",
       "    </tr>\n",
       "    <tr>\n",
       "      <th>75019.0</th>\n",
       "      <td>16220.0</td>\n",
       "      <td>3.002552e+08</td>\n",
       "      <td>18511.419410</td>\n",
       "      <td>9402</td>\n",
       "    </tr>\n",
       "    <tr>\n",
       "      <th>75020.0</th>\n",
       "      <td>18903.0</td>\n",
       "      <td>1.073067e+09</td>\n",
       "      <td>56767.012248</td>\n",
       "      <td>9282</td>\n",
       "    </tr>\n",
       "  </tbody>\n",
       "</table>\n",
       "</div>"
      ],
      "text/plain": [
       "             surface          Prix   prix_m2_reel  prix_m2_ref\n",
       "code_postal                                                   \n",
       "75001.0       6329.0  3.707930e+08   58586.344288        13312\n",
       "75002.0       9002.0  8.033815e+08   89244.779801        12268\n",
       "75003.0       9398.0  4.268654e+08   45420.879070        13351\n",
       "75004.0       6862.0  9.652394e+07   14066.444623        13158\n",
       "75005.0       6161.0  9.530106e+07   15468.440643        13059\n",
       "75006.0       8527.0  2.372845e+08   27827.434150        15617\n",
       "75007.0       9430.0  5.732054e+08   60785.304348        13442\n",
       "75008.0      18018.0  3.294913e+09  182867.861581        12809\n",
       "75009.0      17399.0  1.860469e+09  106929.667352        11702\n",
       "75010.0      18744.0  6.327027e+08   33754.943735        10368\n",
       "75011.0      22598.0  1.147505e+09   50779.055602        10595\n",
       "75012.0      16929.0  3.608192e+08   21313.676805         9703\n",
       "75013.0       8066.0  1.546137e+08   19168.576742         9246\n",
       "75014.0      12834.0  6.670573e+08   51975.787340         9940\n",
       "75015.0      17313.0  2.649500e+08   15303.528051        10816\n",
       "75016.0      37141.0  7.236226e+08   19483.120832        11322\n",
       "75017.0      37248.0  2.086736e+09   56022.761931        11420\n",
       "75018.0      30638.0  7.444526e+08   24298.341858         9904\n",
       "75019.0      16220.0  3.002552e+08   18511.419410         9402\n",
       "75020.0      18903.0  1.073067e+09   56767.012248         9282"
      ]
     },
     "execution_count": 26,
     "metadata": {},
     "output_type": "execute_result"
    }
   ],
   "source": [
    "# Valeurs des prix de références trouvés sur internet et copier sous forme de liste ici pour les mettre dans le dataframe \"Prix_m2\"\n",
    "Prix_m2['prix_m2_ref']= [13312,12268,13351,13158,13059,15617,13442,12809,11702,10368,10595,9703, 9246,9940,10816,11322,11420,9904,9402,9282]\n",
    "Prix_m2 "
   ]
  },
  {
   "cell_type": "markdown",
   "id": "convertible-tolerance",
   "metadata": {},
   "source": [
    "### 3.3 : Calcul du prix moyen d'une vente classé par arrondissement "
   ]
  },
  {
   "cell_type": "code",
   "execution_count": 27,
   "id": "comic-fellow",
   "metadata": {},
   "outputs": [
    {
     "data": {
      "text/html": [
       "<div>\n",
       "<style scoped>\n",
       "    .dataframe tbody tr th:only-of-type {\n",
       "        vertical-align: middle;\n",
       "    }\n",
       "\n",
       "    .dataframe tbody tr th {\n",
       "        vertical-align: top;\n",
       "    }\n",
       "\n",
       "    .dataframe thead th {\n",
       "        text-align: right;\n",
       "    }\n",
       "</style>\n",
       "<table border=\"1\" class=\"dataframe\">\n",
       "  <thead>\n",
       "    <tr style=\"text-align: right;\">\n",
       "      <th></th>\n",
       "      <th>code_postal</th>\n",
       "      <th>Prix</th>\n",
       "    </tr>\n",
       "  </thead>\n",
       "  <tbody>\n",
       "    <tr>\n",
       "      <th>0</th>\n",
       "      <td>75001.0</td>\n",
       "      <td>2.874364e+06</td>\n",
       "    </tr>\n",
       "    <tr>\n",
       "      <th>1</th>\n",
       "      <td>75002.0</td>\n",
       "      <td>3.899910e+06</td>\n",
       "    </tr>\n",
       "    <tr>\n",
       "      <th>2</th>\n",
       "      <td>75003.0</td>\n",
       "      <td>1.771226e+06</td>\n",
       "    </tr>\n",
       "    <tr>\n",
       "      <th>3</th>\n",
       "      <td>75004.0</td>\n",
       "      <td>7.045543e+05</td>\n",
       "    </tr>\n",
       "    <tr>\n",
       "      <th>4</th>\n",
       "      <td>75005.0</td>\n",
       "      <td>6.269807e+05</td>\n",
       "    </tr>\n",
       "    <tr>\n",
       "      <th>5</th>\n",
       "      <td>75006.0</td>\n",
       "      <td>1.446857e+06</td>\n",
       "    </tr>\n",
       "    <tr>\n",
       "      <th>6</th>\n",
       "      <td>75007.0</td>\n",
       "      <td>3.516598e+06</td>\n",
       "    </tr>\n",
       "    <tr>\n",
       "      <th>7</th>\n",
       "      <td>75008.0</td>\n",
       "      <td>1.193809e+07</td>\n",
       "    </tr>\n",
       "    <tr>\n",
       "      <th>8</th>\n",
       "      <td>75009.0</td>\n",
       "      <td>4.987853e+06</td>\n",
       "    </tr>\n",
       "    <tr>\n",
       "      <th>9</th>\n",
       "      <td>75010.0</td>\n",
       "      <td>1.309943e+06</td>\n",
       "    </tr>\n",
       "    <tr>\n",
       "      <th>10</th>\n",
       "      <td>75011.0</td>\n",
       "      <td>1.830152e+06</td>\n",
       "    </tr>\n",
       "    <tr>\n",
       "      <th>11</th>\n",
       "      <td>75012.0</td>\n",
       "      <td>8.108297e+05</td>\n",
       "    </tr>\n",
       "    <tr>\n",
       "      <th>12</th>\n",
       "      <td>75013.0</td>\n",
       "      <td>7.808775e+05</td>\n",
       "    </tr>\n",
       "    <tr>\n",
       "      <th>13</th>\n",
       "      <td>75014.0</td>\n",
       "      <td>2.058819e+06</td>\n",
       "    </tr>\n",
       "    <tr>\n",
       "      <th>14</th>\n",
       "      <td>75015.0</td>\n",
       "      <td>6.104838e+05</td>\n",
       "    </tr>\n",
       "    <tr>\n",
       "      <th>15</th>\n",
       "      <td>75016.0</td>\n",
       "      <td>1.337565e+06</td>\n",
       "    </tr>\n",
       "    <tr>\n",
       "      <th>16</th>\n",
       "      <td>75017.0</td>\n",
       "      <td>2.886218e+06</td>\n",
       "    </tr>\n",
       "    <tr>\n",
       "      <th>17</th>\n",
       "      <td>75018.0</td>\n",
       "      <td>8.768582e+05</td>\n",
       "    </tr>\n",
       "    <tr>\n",
       "      <th>18</th>\n",
       "      <td>75019.0</td>\n",
       "      <td>6.823982e+05</td>\n",
       "    </tr>\n",
       "    <tr>\n",
       "      <th>19</th>\n",
       "      <td>75020.0</td>\n",
       "      <td>2.028482e+06</td>\n",
       "    </tr>\n",
       "  </tbody>\n",
       "</table>\n",
       "</div>"
      ],
      "text/plain": [
       "    code_postal          Prix\n",
       "0       75001.0  2.874364e+06\n",
       "1       75002.0  3.899910e+06\n",
       "2       75003.0  1.771226e+06\n",
       "3       75004.0  7.045543e+05\n",
       "4       75005.0  6.269807e+05\n",
       "5       75006.0  1.446857e+06\n",
       "6       75007.0  3.516598e+06\n",
       "7       75008.0  1.193809e+07\n",
       "8       75009.0  4.987853e+06\n",
       "9       75010.0  1.309943e+06\n",
       "10      75011.0  1.830152e+06\n",
       "11      75012.0  8.108297e+05\n",
       "12      75013.0  7.808775e+05\n",
       "13      75014.0  2.058819e+06\n",
       "14      75015.0  6.104838e+05\n",
       "15      75016.0  1.337565e+06\n",
       "16      75017.0  2.886218e+06\n",
       "17      75018.0  8.768582e+05\n",
       "18      75019.0  6.823982e+05\n",
       "19      75020.0  2.028482e+06"
      ]
     },
     "execution_count": 27,
     "metadata": {},
     "output_type": "execute_result"
    }
   ],
   "source": [
    "# Moyenne de prix d'une vente dans chaque arrondissement\n",
    "mean_prix_ar = df_paris.groupby('code_postal')[['Prix']].mean().reset_index()\n",
    "mean_prix_ar"
   ]
  },
  {
   "cell_type": "markdown",
   "id": "arbitrary-lesson",
   "metadata": {},
   "source": [
    "### 3.4 : Histogramme des prix moyens d'une vente par arrondissement"
   ]
  },
  {
   "cell_type": "code",
   "execution_count": 28,
   "id": "broad-maine",
   "metadata": {},
   "outputs": [
    {
     "data": {
      "image/png": "[encoded data removed]",
      "text/plain": [
       "<Figure size 1080x504 with 1 Axes>"
      ]
     },
     "metadata": {
      "needs_background": "light"
     },
     "output_type": "display_data"
    }
   ],
   "source": [
    "plt.figure(figsize = (15, 7))\n",
    "plt.barh(y = (mean_prix_ar[\"code_postal\"]).astype(str), #this is an inverted bar chart, so the first argument is the y axis\n",
    "        width = mean_prix_ar[\"Prix\"]) #the second argument shows the x-axis or is the width \n",
    "plt.xticks( fontsize = 13)\n",
    "plt.yticks( fontsize = 13)\n",
    "plt.title(\"Prix moyen d'un appartement vendu dans chaque arrondissement\\n(toutes surfaces confondus)\", \n",
    "          fontsize = 16, \n",
    "          fontweight = \"bold\")\n",
    "plt.xlabel(\" Prix de vente moyen\", fontsize = 13 )\n",
    "# plt.tight_layout()\n",
    "# plt.savefig(\"Prix_moyen_vente_paris.png\")\n",
    "plt.show()"
   ]
  },
  {
   "cell_type": "code",
   "execution_count": 29,
   "id": "usual-laugh",
   "metadata": {},
   "outputs": [
    {
     "data": {
      "text/plain": [
       "nb_pieces\n",
       "0.0       16\n",
       "1.0     2719\n",
       "2.0     2570\n",
       "3.0     1299\n",
       "4.0      491\n",
       "5.0      200\n",
       "6.0       91\n",
       "7.0       30\n",
       "8.0       14\n",
       "10.0       3\n",
       "12.0       1\n",
       "Name: nb_pieces, dtype: int64"
      ]
     },
     "execution_count": 29,
     "metadata": {},
     "output_type": "execute_result"
    }
   ],
   "source": [
    "# Répartition du nombre d'appart vendus par nb de pièces dans Paris\n",
    "df_paris.groupby('nb_pieces')['nb_pieces'].count()"
   ]
  },
  {
   "cell_type": "markdown",
   "id": "deadly-edgar",
   "metadata": {},
   "source": [
    "### 3.5 : Etude de la corrélation"
   ]
  },
  {
   "cell_type": "markdown",
   "id": "complete-philippines",
   "metadata": {},
   "source": [
    "Les coefficients de corrélation se situent dans l’intervalle [-1,1].\n",
    "\n",
    "    si le coefficient est proche de 1 c’est qu’il y a une forte corrélation positive\n",
    "    si le coefficient est proche de -1 c’est qu’il y a une forte corrélation négative\n",
    "    si le coefficient est proche de 0 en valeur absolue c’est qu’il y a une faible corrélation"
   ]
  },
  {
   "cell_type": "code",
   "execution_count": 30,
   "id": "chicken-geneva",
   "metadata": {},
   "outputs": [
    {
     "data": {
      "text/plain": [
       "<AxesSubplot:>"
      ]
     },
     "execution_count": 30,
     "metadata": {},
     "output_type": "execute_result"
    },
    {
     "data": {
      "image/png": "[encoded data removed]",
      "text/plain": [
       "<Figure size 432x288 with 2 Axes>"
      ]
     },
     "metadata": {
      "needs_background": "light"
     },
     "output_type": "display_data"
    }
   ],
   "source": [
    "matrice_corr = df_paris.corr().round(1)\n",
    "sns.heatmap(data=matrice_corr, annot=True)"
   ]
  },
  {
   "cell_type": "markdown",
   "id": "limited-richardson",
   "metadata": {},
   "source": [
    "Interpréation : \n",
    "- On s'intéresse au Prix des appartements vendu et on cherche à connaitre s'il y a une corrélation avec l'une des variables explicatives dans le dataframe \"df_paris\". \n",
    "- En gros on cherche à savoir quelle colonne à une corrélation forte avec le prix.\n",
    "- On constate que le \"surface\" à la plus forte corrélation avec le Prix (d'après la matrice de corrélation ci-dessus = 0.2) par rapport aux autres variables explicatives potentielles."
   ]
  },
  {
   "cell_type": "markdown",
   "id": "functioning-douglas",
   "metadata": {},
   "source": [
    "### 3.6 : Recherche manuelle de la courbe de régression linéaire entre surface et le prix"
   ]
  },
  {
   "cell_type": "markdown",
   "id": "twenty-wireless",
   "metadata": {},
   "source": [
    "On se concentre sur les appartements vendus dans paris entre 100000 et 500000 de surface < 100m²"
   ]
  },
  {
   "cell_type": "code",
   "execution_count": 31,
   "id": "turkish-agenda",
   "metadata": {},
   "outputs": [
    {
     "data": {
      "text/html": [
       "<div>\n",
       "<style scoped>\n",
       "    .dataframe tbody tr th:only-of-type {\n",
       "        vertical-align: middle;\n",
       "    }\n",
       "\n",
       "    .dataframe tbody tr th {\n",
       "        vertical-align: top;\n",
       "    }\n",
       "\n",
       "    .dataframe thead th {\n",
       "        text-align: right;\n",
       "    }\n",
       "</style>\n",
       "<table border=\"1\" class=\"dataframe\">\n",
       "  <thead>\n",
       "    <tr style=\"text-align: right;\">\n",
       "      <th></th>\n",
       "      <th>id_parcelle</th>\n",
       "      <th>nature_vente</th>\n",
       "      <th>date_vente</th>\n",
       "      <th>Prix</th>\n",
       "      <th>nb_lots</th>\n",
       "      <th>surface</th>\n",
       "      <th>local</th>\n",
       "      <th>nb_pieces</th>\n",
       "      <th>code_dprtmt</th>\n",
       "      <th>adresse_nom_voie</th>\n",
       "      <th>code_postal</th>\n",
       "      <th>longitude</th>\n",
       "      <th>latitude</th>\n",
       "      <th>Adresse</th>\n",
       "      <th>Annee</th>\n",
       "      <th>Mois</th>\n",
       "      <th>jour</th>\n",
       "    </tr>\n",
       "  </thead>\n",
       "  <tbody>\n",
       "    <tr>\n",
       "      <th>32856</th>\n",
       "      <td>75103000AI0049</td>\n",
       "      <td>Vente</td>\n",
       "      <td>2020-01-08</td>\n",
       "      <td>370000.0</td>\n",
       "      <td>1</td>\n",
       "      <td>21.0</td>\n",
       "      <td>Appartement</td>\n",
       "      <td>1.0</td>\n",
       "      <td>75</td>\n",
       "      <td>RUE DES ARCHIVES</td>\n",
       "      <td>75003.0</td>\n",
       "      <td>2.359899</td>\n",
       "      <td>48.863217</td>\n",
       "      <td>79.0   RUE DES ARCHIVES   75003.0</td>\n",
       "      <td>2020</td>\n",
       "      <td>01</td>\n",
       "      <td>08</td>\n",
       "    </tr>\n",
       "    <tr>\n",
       "      <th>32863</th>\n",
       "      <td>75103000AJ0005</td>\n",
       "      <td>Vente</td>\n",
       "      <td>2020-01-16</td>\n",
       "      <td>435000.0</td>\n",
       "      <td>1</td>\n",
       "      <td>72.0</td>\n",
       "      <td>Appartement</td>\n",
       "      <td>2.0</td>\n",
       "      <td>75</td>\n",
       "      <td>BD DU TEMPLE</td>\n",
       "      <td>75003.0</td>\n",
       "      <td>2.365697</td>\n",
       "      <td>48.863902</td>\n",
       "      <td>13.0   BD DU TEMPLE   75003.0</td>\n",
       "      <td>2020</td>\n",
       "      <td>01</td>\n",
       "      <td>16</td>\n",
       "    </tr>\n",
       "  </tbody>\n",
       "</table>\n",
       "</div>"
      ],
      "text/plain": [
       "          id_parcelle nature_vente  date_vente      Prix  nb_lots  surface  \\\n",
       "32856  75103000AI0049        Vente  2020-01-08  370000.0        1     21.0   \n",
       "32863  75103000AJ0005        Vente  2020-01-16  435000.0        1     72.0   \n",
       "\n",
       "             local  nb_pieces  code_dprtmt  adresse_nom_voie  code_postal  \\\n",
       "32856  Appartement        1.0           75  RUE DES ARCHIVES      75003.0   \n",
       "32863  Appartement        2.0           75      BD DU TEMPLE      75003.0   \n",
       "\n",
       "       longitude   latitude                            Adresse Annee Mois jour  \n",
       "32856   2.359899  48.863217  79.0   RUE DES ARCHIVES   75003.0  2020   01   08  \n",
       "32863   2.365697  48.863902      13.0   BD DU TEMPLE   75003.0  2020   01   16  "
      ]
     },
     "execution_count": 31,
     "metadata": {},
     "output_type": "execute_result"
    }
   ],
   "source": [
    "# On regroupe les appartements ayant coutés ente 100000 et 500000 et inférieur à 100m²\n",
    "groupe = df_paris[(df_paris['Prix']>=100000)&\n",
    "                  (df_paris['Prix']<=500000)&\n",
    "                  (df_paris['surface']<=100)\n",
    "                 ]\n",
    "groupe.head(2)"
   ]
  },
  {
   "cell_type": "code",
   "execution_count": 32,
   "id": "swedish-yahoo",
   "metadata": {},
   "outputs": [
    {
     "data": {
      "image/png": "[encoded data removed]",
      "text/plain": [
       "<Figure size 720x432 with 1 Axes>"
      ]
     },
     "metadata": {
      "needs_background": "light"
     },
     "output_type": "display_data"
    }
   ],
   "source": [
    "# Plot pour superposer la courbe de regression (recherché manuellement) \n",
    "# et la répartition des surfaces des appartements en fonction de leur prix\n",
    "fig = plt.figure(figsize=(10,6))\n",
    "plt.plot(groupe['surface'],groupe['Prix'],'+',c='green',label='Prix en fonction de la surface')\n",
    "plt.plot([0, 50], [0, 500000] ) # jouer avec ces paramètres pour faire varier la droite bleue\n",
    "\n",
    "plt.xlabel('Surface', fontsize=14)\n",
    "plt.ylabel('Prix', fontsize=14)\n",
    "plt.legend()\n",
    "plt.show()"
   ]
  },
  {
   "cell_type": "markdown",
   "id": "norman-opposition",
   "metadata": {},
   "source": [
    "## 4 - Estimateurs"
   ]
  },
  {
   "cell_type": "markdown",
   "id": "invisible-answer",
   "metadata": {},
   "source": [
    "#### Rappel de cours pour calculer les a et b de l'equation y = ax + b "
   ]
  },
  {
   "cell_type": "markdown",
   "id": "sharp-revision",
   "metadata": {},
   "source": [
    "<img src=\"img/reglin4.png\" width=\"600\">"
   ]
  },
  {
   "cell_type": "markdown",
   "id": "governing-summit",
   "metadata": {},
   "source": [
    "### 4.1 : Estimateur du prix methode David"
   ]
  },
  {
   "cell_type": "code",
   "execution_count": 33,
   "id": "super-beijing",
   "metadata": {},
   "outputs": [],
   "source": [
    "x=df_paris['surface']\n",
    "y=df_paris['Prix']"
   ]
  },
  {
   "cell_type": "code",
   "execution_count": 34,
   "id": "demographic-freight",
   "metadata": {},
   "outputs": [
    {
     "data": {
      "text/plain": [
       "35780.33209187344"
      ]
     },
     "execution_count": 34,
     "metadata": {},
     "output_type": "execute_result"
    }
   ],
   "source": [
    "# Calcul des membres principaux de la solution a et b de l'équation y =ax + b \n",
    "# Puis calcul du a\n",
    "\n",
    "un=len(x)*(df_paris['surface']*df['Prix']).sum()\n",
    "\n",
    "sumx=df_paris['surface'].sum()\n",
    "sumy=df_paris['Prix'].sum()\n",
    "\n",
    "deux=len(df_paris['surface'])*((df_paris['surface']*df_paris['surface']).sum())\n",
    "\n",
    "trois=sumx*sumx\n",
    "\n",
    "a=(un-(sumx*sumy))/(deux-trois)\n",
    "a"
   ]
  },
  {
   "cell_type": "code",
   "execution_count": 35,
   "id": "bottom-saying",
   "metadata": {},
   "outputs": [
    {
     "data": {
      "text/plain": [
       "563244.1054112952"
      ]
     },
     "execution_count": 35,
     "metadata": {},
     "output_type": "execute_result"
    }
   ],
   "source": [
    "# Puis calcul du b\n",
    "quatre=sumy*((df_paris['surface']*df_paris['surface']).sum())\n",
    "cinq=sumx*(df_paris['surface']*df_paris['Prix']).sum()\n",
    "six=len(df_paris['surface'])*((df_paris['surface']*df_paris['surface']).sum())\n",
    "sept=sumx*sumx\n",
    "\n",
    "b=(quatre-cinq)/(six-sept)\n",
    "b"
   ]
  },
  {
   "cell_type": "code",
   "execution_count": 36,
   "id": "colonial-bubble",
   "metadata": {},
   "outputs": [
    {
     "data": {
      "text/plain": [
       "1278850.7472487641"
      ]
     },
     "execution_count": 36,
     "metadata": {},
     "output_type": "execute_result"
    }
   ],
   "source": [
    "a=35780.33209187344\n",
    "b=563244.1054112952\n",
    "\n",
    "def pred(x,a,b):\n",
    "    return a*x+b\n",
    "\n",
    "pred(20,a,b)"
   ]
  },
  {
   "cell_type": "markdown",
   "id": "brave-receipt",
   "metadata": {},
   "source": [
    "Interpration : d'après ce modèle un appartement de 20m² coûterait 1278850. Ca semble un peu elévée, c'est surement du aux \"Outliers\". Il faudrait filtrer ces \"Outliers\" dans le dataset pour affiner la prédiction. "
   ]
  },
  {
   "cell_type": "markdown",
   "id": "maritime-while",
   "metadata": {},
   "source": [
    "### 4.2 : Prédiction avec Scikit learn - methode Josselin"
   ]
  },
  {
   "cell_type": "code",
   "execution_count": 37,
   "id": "suited-failing",
   "metadata": {},
   "outputs": [
    {
     "data": {
      "text/plain": [
       "array([1278850.74724874])"
      ]
     },
     "execution_count": 37,
     "metadata": {},
     "output_type": "execute_result"
    }
   ],
   "source": [
    "import numpy as np\n",
    "\n",
    "from sklearn.linear_model import LinearRegression\n",
    "reg = LinearRegression().fit(df_paris[['surface']], df_paris.Prix)\n",
    "reg.predict(np.array([[20]]))"
   ]
  },
  {
   "cell_type": "markdown",
   "id": "based-soldier",
   "metadata": {},
   "source": [
    "Interprétation : on trouve la même valeur que dans le modèle précédent (20m² = 1278850).\n",
    "Ce qui montre que le calcul à la main et via l'outil de calcul Scitkit learn revient au même mais scikit learn est plus rapide. \n",
    "=> pour la valeur élevé il faut surement nettoyer encore les valeur du dataset pour avoir une prédiction plus juste. "
   ]
  },
  {
   "cell_type": "markdown",
   "id": "fleet-surveillance",
   "metadata": {},
   "source": [
    "### 4.3 : Estimateur - autre méthode vue avec David  - ( PAS REUSSI A REFAIRE avec notre dataset)"
   ]
  },
  {
   "cell_type": "markdown",
   "id": "suited-ground",
   "metadata": {},
   "source": [
    "<img src=\"img/Estimateur_des_moindres_carres.png\" width=\"490\">"
   ]
  },
  {
   "cell_type": "raw",
   "id": "animated-currency",
   "metadata": {},
   "source": [
    "def pred_p(coef,hp,b):\n",
    "    return (coef*hp)+b\n",
    "\n",
    "# coeff de corelation \n",
    "coef=0.3\n",
    "taille_pere=180\n",
    "biais=140\n",
    "pred_p(coef,taille_pere,biais)"
   ]
  },
  {
   "cell_type": "raw",
   "id": "killing-action",
   "metadata": {},
   "source": [
    "x=groupe.groupby([\"surface\"])['Prix'].median().index\n",
    "est_p=[pred_p(coef,elem,biais) for elem in groupe.groupby([\"surface\"])['Prix'].median().index]"
   ]
  },
  {
   "cell_type": "raw",
   "id": "ethical-receptor",
   "metadata": {},
   "source": [
    "fig = plt.figure(figsize=(12, 6))\n",
    "plt.plot(groupe['surface'],groupe['Prix'],'+',c='blue',label='Observation des prix au m²')\n",
    "\n",
    "plt.plot(x,est_p,c='black',label='Notre estimateur')\n",
    "plt.xlabel('Surface', fontsize=14)\n",
    "plt.ylabel('Prix', fontsize=14)\n",
    "plt.legend(loc=\"upper right\")\n",
    "plt.show()"
   ]
  },
  {
   "cell_type": "markdown",
   "id": "rational-reservoir",
   "metadata": {},
   "source": [
    "## 5 - Evaluation de l'estimateur avec le RMSE"
   ]
  },
  {
   "cell_type": "markdown",
   "id": "ordinary-reform",
   "metadata": {},
   "source": [
    "- Pour évaluer l'ecart entre notre estimateur et les données, nous allons construire un outil qui permet de le quantifier.\n",
    "- Le RMSE (Root Mean Squared Error) <=> La racine de la moyenne des erreurs au carré ..."
   ]
  },
  {
   "cell_type": "markdown",
   "id": "thrown-dylan",
   "metadata": {},
   "source": [
    "<img src=\"img/rmse.jpg\" width=\"400\">"
   ]
  },
  {
   "cell_type": "markdown",
   "id": "sudden-mauritius",
   "metadata": {},
   "source": [
    "Pour cela on va:  \n",
    "- Quantifier la precision de vos predicteurs en caclulant le RMSE"
   ]
  },
  {
   "cell_type": "code",
   "execution_count": 38,
   "id": "apparent-american",
   "metadata": {},
   "outputs": [
    {
     "name": "stdout",
     "output_type": "stream",
     "text": [
      "53931.549339765785\n"
     ]
    }
   ],
   "source": [
    "from sklearn.metrics import mean_squared_error\n",
    "from math import sqrt\n",
    "\n",
    "rmse = sqrt(mean_squared_error(Prix_m2['prix_m2_reel'],Prix_m2['prix_m2_ref'] ))\n",
    "print(rmse)"
   ]
  },
  {
   "cell_type": "raw",
   "id": "naked-closure",
   "metadata": {},
   "source": [
    "Interprétation : ??? "
   ]
  },
  {
   "cell_type": "markdown",
   "id": "domestic-edgar",
   "metadata": {},
   "source": [
    "\n",
    "\n",
    "\n",
    "\n",
    "\n",
    "\n",
    "\n",
    "\n",
    "\n",
    "\n",
    "\n",
    "\n",
    "\n",
    "\n",
    "\n",
    "\n"
   ]
  },
  {
   "cell_type": "markdown",
   "id": "psychological-lancaster",
   "metadata": {},
   "source": [
    "# GEOLOCALISATION"
   ]
  },
  {
   "cell_type": "code",
   "execution_count": null,
   "id": "stuck-performer",
   "metadata": {},
   "outputs": [],
   "source": []
  }
 ],
 "metadata": {
  "kernelspec": {
   "display_name": "Python 3",
   "language": "python",
   "name": "python3"
  },
  "language_info": {
   "codemirror_mode": {
    "name": "ipython",
    "version": 3
   },
   "file_extension": ".py",
   "mimetype": "text/x-python",
   "name": "python",
   "nbconvert_exporter": "python",
   "pygments_lexer": "ipython3",
   "version": "3.8.5"
  }
 },
 "nbformat": 4,
 "nbformat_minor": 5
}
